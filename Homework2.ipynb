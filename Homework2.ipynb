{
  "nbformat": 4,
  "nbformat_minor": 0,
  "metadata": {
    "colab": {
      "name": "Untitled6.ipynb",
      "provenance": [],
      "collapsed_sections": [],
      "authorship_tag": "ABX9TyPDmtfXYXNrGdwxvWC6ncJf",
      "include_colab_link": true
    },
    "kernelspec": {
      "name": "python3",
      "display_name": "Python 3"
    }
  },
  "cells": [
    {
      "cell_type": "markdown",
      "metadata": {
        "id": "view-in-github",
        "colab_type": "text"
      },
      "source": [
        "<a href=\"https://colab.research.google.com/github/BeyzaUslu/gaih-students-repo-example/blob/main/Homework2.ipynb\" target=\"_parent\"><img src=\"https://colab.research.google.com/assets/colab-badge.svg\" alt=\"Open In Colab\"/></a>"
      ]
    },
    {
      "cell_type": "code",
      "metadata": {
        "colab": {
          "base_uri": "https://localhost:8080/"
        },
        "id": "Yv8MKvY8GTv7",
        "outputId": "03fe3f84-89c1-45d9-b294-fd679c071f2a"
      },
      "source": [
        "#CV1\r\n",
        "Ad = input('Ahmet: ')\r\n",
        "print(Ad)\r\n",
        "\r\n",
        "Soyad = input('Karaca : ')\r\n",
        "print(Soyad)\r\n",
        "\r\n",
        "Yas= input('05.05.1990 : ')\r\n",
        "print(Yas)\r\n",
        " \r\n",
        "Adres= input('İstanbul Kadıkoy Bahçelievler Mahallesi No:15 : ')\r\n",
        "print(Adres)\r\n",
        "\r\n",
        "IsUnvanı= input('Endüstri Mühendisi : ')\r\n",
        "print(IsUnvanı)\r\n",
        "\r\n",
        "Medenıhal = input('Evli : ')\r\n",
        "print(Medenıhal)"
      ],
      "execution_count": 1,
      "outputs": [
        {
          "output_type": "stream",
          "text": [
            "Ahmet: ahmet\n",
            "ahmet\n",
            "Karaca : \n",
            "\n",
            "05.05.1990 : \n",
            "\n",
            "İstanbul Kadıkoy Bahçelievler Mahallesi No:15 : \n",
            "\n",
            "Endüstri Mühendisi : \n",
            "\n"
          ],
          "name": "stdout"
        }
      ]
    },
    {
      "cell_type": "code",
      "metadata": {
        "colab": {
          "base_uri": "https://localhost:8080/"
        },
        "id": "fhYoe5ECJF4q",
        "outputId": "076092ba-880b-431a-f5b9-86a115a68f92"
      },
      "source": [
        "#CV2\r\n",
        "Ad = input('Duru: ')\r\n",
        "print(Ad)\r\n",
        "\r\n",
        "Soyad = input('Esen : ')\r\n",
        "print(Soyad)\r\n",
        "\r\n",
        "Yas= input('01.02.1994 : ')\r\n",
        "\r\n",
        "print(Yas)\r\n",
        " \r\n",
        "Adres= input('İstanbul Cihangir Galata Mahallesi No:8 : ')\r\n",
        "print(Adres)\r\n",
        "\r\n",
        "IsUnvanı= input('Gıda Mühendisi : ')\r\n",
        "print(IsUnvanı)\r\n",
        "\r\n",
        "Medenıhal = input('Bekar: ')\r\n",
        "print(Medenıhal)"
      ],
      "execution_count": 6,
      "outputs": [
        {
          "output_type": "stream",
          "text": [
            "Duru: \n",
            "\n",
            "Esen : \n",
            "\n",
            "01.02.1994 : \n",
            "\n",
            "İstanbul Cihangir Galata Mahallesi No:8 : \n",
            "\n",
            "Gıda Mühendisi : \n",
            "\n",
            "Bekar: \n",
            "\n"
          ],
          "name": "stdout"
        }
      ]
    },
    {
      "cell_type": "code",
      "metadata": {
        "colab": {
          "base_uri": "https://localhost:8080/"
        },
        "id": "2pq6Iqr6Jea2",
        "outputId": "e2c55166-cb7d-46a2-80a7-3965310c878e"
      },
      "source": [
        "#CV3\r\n",
        "Ad = input('Caner: ')\r\n",
        "print(Ad)\r\n",
        "\r\n",
        "Soyad = input('Beyoglu : ')\r\n",
        "print(Soyad)\r\n",
        "\r\n",
        "Yas= input('29.10.1994 : ')\r\n",
        "print(Yas)\r\n",
        " \r\n",
        "Adres= input('Antalya Lara Falez Mahallesi No:45 : ')\r\n",
        "print(Adres)\r\n",
        "\r\n",
        "IsUnvanı= input('Mekatronik Mühendisi : ')\r\n",
        "print(IsUnvanı)\r\n",
        "\r\n",
        "Medenıhal = input('Bekar: ')\r\n",
        "print(Medenıhal)"
      ],
      "execution_count": 5,
      "outputs": [
        {
          "output_type": "stream",
          "text": [
            "Caner: \n",
            "\n",
            "Beyoglu : \n",
            "\n",
            "29.10.1994 : \n",
            "\n",
            "Antalya Lara Falez Mahallesi No:45 : \n",
            "\n",
            "Mekatronik Mühendisi : \n",
            "\n",
            "Bekar: \n",
            "\n"
          ],
          "name": "stdout"
        }
      ]
    },
    {
      "cell_type": "code",
      "metadata": {
        "colab": {
          "base_uri": "https://localhost:8080/"
        },
        "id": "76WzWHlCJfS6",
        "outputId": "2e7ddddf-073e-4015-f421-56be4c1e91e3"
      },
      "source": [
        "\r\n",
        "#CV4\r\n",
        "Ad = input('Belen: ')\r\n",
        "print(Ad)\r\n",
        "\r\n",
        "Soyad = input('Ozdogan : ')\r\n",
        "print(Soyad)\r\n",
        "\r\n",
        "Yas= input('08.04.1994 : ')\r\n",
        "print(Yas)\r\n",
        " \r\n",
        "Adres= input('İzmir Foça Gül Mahallesi No:68 : ')\r\n",
        "print(Adres)\r\n",
        "\r\n",
        "IsUnvanı= input('Makine Mühendisi : ')\r\n",
        "print(IsUnvanı)\r\n",
        "\r\n",
        "Medenıhal = input('Bekar: ')\r\n",
        "print(Medenıhal)"
      ],
      "execution_count": 7,
      "outputs": [
        {
          "output_type": "stream",
          "text": [
            "Belen: \n",
            "\n",
            "Ozdogan : \n",
            "\n",
            "08.04.1994 : \n",
            "\n",
            "İzmir Foça Gül Mahallesi No:68 : \n",
            "\n",
            "Makine Mühendisi : \n",
            "\n",
            "Bekar: \n",
            "\n"
          ],
          "name": "stdout"
        }
      ]
    },
    {
      "cell_type": "code",
      "metadata": {
        "colab": {
          "base_uri": "https://localhost:8080/"
        },
        "id": "xAaKtQ5rIoAx",
        "outputId": "8bfad927-1135-4959-a56e-348e592ef228"
      },
      "source": [
        "\r\n",
        "#CV5\r\n",
        "Ad = input('Cagrı: ')\r\n",
        "print(Ad)\r\n",
        "\r\n",
        "Soyad = input('Caglayan : ')\r\n",
        "print(Soyad)\r\n",
        "\r\n",
        "Yas= input('20.09.1995 : ')\r\n",
        "print(Yas)\r\n",
        " \r\n",
        "Adres= input('Ankara Gazi Mahallesi No:45 : ')\r\n",
        "print(Adres)\r\n",
        "\r\n",
        "IsUnvanı= input('Elektrik Elektronik Mühendisi : ')\r\n",
        "print(IsUnvanı)\r\n",
        "\r\n",
        "Medenıhal = input('Bekar : ')\r\n",
        "print(Medenıhal)\r\n",
        "\r\n"
      ],
      "execution_count": 3,
      "outputs": [
        {
          "output_type": "stream",
          "text": [
            "Cagrı: \n",
            "\n",
            "Caglayan : \n",
            "\n",
            "20.09.1995 : \n",
            "\n",
            "Ankara Gazi Mahallesi No:45 : \n",
            "\n",
            "Elektrik Elektronik Mühendisi : \n",
            "\n",
            "Bekar : \n",
            "\n"
          ],
          "name": "stdout"
        }
      ]
    }
  ]
}