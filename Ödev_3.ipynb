{
  "nbformat": 4,
  "nbformat_minor": 0,
  "metadata": {
    "colab": {
      "name": "Ödev 3",
      "provenance": [],
      "authorship_tag": "ABX9TyNupXPvB4boZuVHVnNgBYQm",
      "include_colab_link": true
    },
    "kernelspec": {
      "name": "python3",
      "display_name": "Python 3"
    },
    "language_info": {
      "name": "python"
    }
  },
  "cells": [
    {
      "cell_type": "markdown",
      "metadata": {
        "id": "view-in-github",
        "colab_type": "text"
      },
      "source": [
        "<a href=\"https://colab.research.google.com/github/BeyzaUslu/Beyzauslu-repo/blob/main/%C3%96dev_3.ipynb\" target=\"_parent\"><img src=\"https://colab.research.google.com/assets/colab-badge.svg\" alt=\"Open In Colab\"/></a>"
      ]
    },
    {
      "cell_type": "markdown",
      "metadata": {
        "id": "oP6Mf6v14Qvr"
      },
      "source": [
        "Ödev 3\n"
      ]
    },
    {
      "cell_type": "code",
      "metadata": {
        "id": "EnV704LC4Kmk"
      },
      "source": [
        "from sklearn.datasets import load_breast_cancer\n",
        "import pandas as pd\n",
        "X , y = load_breast_cancer(return_X_y=True)\n",
        "df = pd.DataFrame(X,columns = load_breast_cancer().feature_names)\n",
        "df.head()\n",
        "df.info()\n",
        "df.describe()\n",
        "df.isna().sum()\n",
        "\n",
        "import seaborn as sns\n",
        "plt.figure(figsize=(16, 8))\n",
        "sns.distplot(df[\"mean area\"])\n",
        "\n",
        "from scipy import stats\n",
        "import numpy as np\n",
        "z = np.abs(stats.zscore(df))\n",
        "z\n",
        "\n",
        "outliers = list(set(np.where(z > 3)[0]))\n",
        "\n",
        "len(outliers)\n",
        "\n",
        "new_df = df.drop(outliers,axis = 0).reset_index(drop = False)\n",
        "display(new_df)\n",
        "\n",
        "y_new = y[list(new_df[\"index\"])]\n",
        "len(y_new)\n",
        "\n",
        "X_new = new_df.drop('index', axis = 1)\n",
        "\n",
        "from sklearn.preprocessing import StandardScaler, MinMaxScaler\n",
        "X_scaled = MinMaxScaler().fit_transform(X_new)\n",
        "X_scaled\n",
        "\n",
        "cv['test_score']\n",
        "\n",
        "from sklearn.model_selection import train_test_split, cross_validate\n",
        "\n",
        "#Scaling and outlier removed\n",
        "X_train, X_test, y_train, y_test = train_test_split(X_scaled,y_new, test_size=0.3, random_state=42)\n",
        "\n",
        "models = LogisticRegression(random_state=42, n_jobs=-1)\n",
        "cv = cross_validate(models,X_train,y_train, cv = 3, n_jobs=-1, return_estimator=True)\n",
        "\n",
        "print(\"Mean training accuracy: {}\".format(np.mean(cv['test_score'])))\n",
        "print(\"Test accuracy: {}\".format(cv[\"estimator\"][0].score(X_test,y_test)))\n",
        "\n",
        "from sklearn.metrics import confusion_matrix\n",
        "import matplotlib.pyplot as plt\n",
        "import seaborn as sns\n",
        "pred = cv[\"estimator\"][0].predict(X_test)\n",
        "\n",
        "cm = confusion_matrix(y_test, pred)\n",
        "plt.figure(figsize=(12, 8))\n",
        "ax =sns.heatmap(cm, square=True, annot=True, cbar=False)\n",
        "ax.xaxis.set_ticklabels([\"False\",\"True\"], fontsize = 12)\n",
        "ax.yaxis.set_ticklabels([\"False\",\"True\"], fontsize = 12, rotation=0)\n",
        "ax.set_xlabel('Predicted Labels',fontsize = 15)\n",
        "ax.set_ylabel('True Labels',fontsize = 15)\n",
        "plt.show()\n",
        "\n",
        "X_train, X_test, y_train, y_test = train_test_split(X,y, test_size=0.3, random_state=42)\n",
        "\n",
        "models = LogisticRegression(random_state=42,n_jobs=-1)\n",
        "cv = cross_validate(models,X_train,y_train,cv = 3, n_jobs=-1, return_estimator=True)\n",
        "\n",
        "print(\"Mean training accuracy: {}\".format(np.mean(cv['test_score'])))\n",
        "print(\"Test accuracy: {}\".format(cv[\"estimator\"][0].score(X_test,y_test)))"
      ],
      "execution_count": null,
      "outputs": []
    }
  ]
}