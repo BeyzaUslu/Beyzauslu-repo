{
  "nbformat": 4,
  "nbformat_minor": 0,
  "metadata": {
    "colab": {
      "name": "Untitled9.ipynb",
      "provenance": [],
      "collapsed_sections": [],
      "authorship_tag": "ABX9TyN00WTU6f0e9w4j/CfI0Azl",
      "include_colab_link": true
    },
    "kernelspec": {
      "name": "python3",
      "display_name": "Python 3"
    },
    "language_info": {
      "name": "python"
    }
  },
  "cells": [
    {
      "cell_type": "markdown",
      "metadata": {
        "id": "view-in-github",
        "colab_type": "text"
      },
      "source": [
        "<a href=\"https://colab.research.google.com/github/BeyzaUslu/Beyzauslu-repo/blob/main/Untitled9.ipynb\" target=\"_parent\"><img src=\"https://colab.research.google.com/assets/colab-badge.svg\" alt=\"Open In Colab\"/></a>"
      ]
    },
    {
      "cell_type": "markdown",
      "metadata": {
        "id": "JBrunxZqY_Yb"
      },
      "source": [
        "ÖDEV-2' DE 5. SORU\n",
        "•\tTry Ridge and Lasso Regression models with at least 5 different alpha value for each."
      ]
    },
    {
      "cell_type": "code",
      "metadata": {
        "id": "6Ubqz7YoWTaO"
      },
      "source": [
        "#LASSO\n",
        "from sklearn.linear_model import Lasso\n",
        "def lasso_regression(data, predictors, alpha, models_to_plot={}):\n",
        "    #Fit the model\n",
        "    lassoreg = Lasso(alpha=alpha,normalize=True, max_iter=1e5)\n",
        "    lassoreg.fit(data[predictors],data['y'])\n",
        "    y_pred = lassoreg.predict(data[predictors])\n",
        "\n",
        "    #Check if a plot is to be made for the entered alpha\n",
        "    if alpha in models_to_plot:\n",
        "        plt.subplot(models_to_plot[alpha])\n",
        "        plt.tight_layout()\n",
        "        plt.plot(data['x'],y_pred)\n",
        "        plt.plot(data['x'],data['y'],'.')\n",
        "        plt.title('Plot for alpha: %.3g'%alpha)\n",
        "    \n",
        "    #Return the result in pre-defined format\n",
        "    rss = sum((y_pred-data['y'])**2)\n",
        "    ret = [rss]\n",
        "    ret.extend([lassoreg.intercept_])\n",
        "    ret.extend(lassoreg.coef_)\n",
        "    return ret\n",
        "\n",
        "    #Initialize predictors to all 15 powers of x\n",
        "predictors=['x']\n",
        "predictors.extend(['x_%d'%i for i in range(2,16)])\n",
        "\n",
        "#Define the alpha values to test\n",
        "alpha_lasso = [1e-15, 1e-10, 1e-8, 1e-5,1e-4, 1e-3,1e-2, 1, 5, 10]\n",
        "\n",
        "#Initialize the dataframe to store coefficients\n",
        "col = ['rss','intercept'] + ['coef_x_%d'%i for i in range(1,16)]\n",
        "ind = ['alpha_%.2g'%alpha_lasso[i] for i in range(0,10)]\n",
        "coef_matrix_lasso = pd.DataFrame(index=ind, columns=col)\n",
        "\n",
        "#Define the models to plot\n",
        "models_to_plot = {1e-10:231, 1e-5:232,1e-4:233, 1e-3:234, 1e-2:235, 1:236}\n",
        "\n",
        "#Iterate over the 10 alpha values:\n",
        "for i in range(10):\n",
        "    coef_matrix_lasso.iloc[i,] = lasso_regression(data, predictors, alpha_lasso[i], models_to_plot)\n",
        "\n",
        "    coef_matrix_lasso.apply(lambda x: sum(x.values==0),axis=1)"
      ],
      "execution_count": null,
      "outputs": []
    },
    {
      "cell_type": "code",
      "metadata": {
        "id": "aCM8KzwuW_0t"
      },
      "source": [
        "#RİDGE\n",
        "#Initialize predictors to be set of 15 powers of x\n",
        "predictors=['x']\n",
        "predictors.extend(['x_%d'%i for i in range(2,16)])\n",
        "\n",
        "#Set the different values of alpha to be tested\n",
        "alpha_ridge = [1e-15, 1e-10, 1e-8, 1e-4, 1e-3,1e-2, 1, 5, 10, 20]\n",
        "\n",
        "#Initialize the dataframe for storing coefficients.\n",
        "col = ['rss','intercept'] + ['coef_x_%d'%i for i in range(1,16)]\n",
        "ind = ['alpha_%.2g'%alpha_ridge[i] for i in range(0,10)]\n",
        "coef_matrix_ridge = pd.DataFrame(index=ind, columns=col)\n",
        "\n",
        "models_to_plot = {1e-15:231, 1e-10:232, 1e-4:233, 1e-3:234, 1e-2:235, 5:236}\n",
        "for i in range(10):\n",
        "    coef_matrix_ridge.iloc[i,] = ridge_regression(data, predictors, alpha_ridge[i], models_to_plot)\n",
        "\n",
        "#Set the display format to be scientific for ease of analysis\n",
        "pd.options.display.float_format = '{:,.2g}'.format\n",
        "coef_matrix_ridge\n",
        "\n",
        "coef_matrix_ridge.apply(lambda x: sum(x.values==0),axis=1)"
      ],
      "execution_count": null,
      "outputs": []
    }
  ]
}